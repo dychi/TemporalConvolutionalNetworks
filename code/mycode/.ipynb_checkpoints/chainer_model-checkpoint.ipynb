{
 "cells": [
  {
   "cell_type": "code",
   "execution_count": 2,
   "metadata": {},
   "outputs": [],
   "source": [
    "import numpy as np\n",
    "import chainer\n",
    "import chainer.links as L\n",
    "import chainer.functions as F"
   ]
  },
  {
   "cell_type": "code",
   "execution_count": 5,
   "metadata": {},
   "outputs": [],
   "source": [
    "def channel_normalization(x):\n",
    "    # Normalize by the highest activation\n",
    "    max_values = max(abs(x), axis=2, keepdims=True)+1e-5\n",
    "    out = x / max_values\n",
    "    return out"
   ]
  },
  {
   "cell_type": "code",
   "execution_count": 3,
   "metadata": {},
   "outputs": [
    {
     "ename": "SyntaxError",
     "evalue": "invalid syntax (<ipython-input-3-0379edf46673>, line 8)",
     "output_type": "error",
     "traceback": [
      "\u001b[0;36m  File \u001b[0;32m\"<ipython-input-3-0379edf46673>\"\u001b[0;36m, line \u001b[0;32m8\u001b[0m\n\u001b[0;31m    zeropad =\u001b[0m\n\u001b[0m              ^\u001b[0m\n\u001b[0;31mSyntaxError\u001b[0m\u001b[0;31m:\u001b[0m invalid syntax\n"
     ]
    }
   ],
   "source": [
    "class ED_TCN(chainer.chain):\n",
    "    \n",
    "    def __init__(self):\n",
    "        super(ED_TCN, self).__init__()\n",
    "        with self.init_scope():\n",
    "            # Encoder\n",
    "            conv1 = L.ConvolutionND(ndim=1, in_channels=None, out_channels=64, ksize=3, stride=1, pad=0)\n",
    "            conv2 = L.ConvolutionND(ndim=1, in_channels=None, out_channels=96, ksize=3, stride=1, pad=0)\n",
    "            zeropad =\n",
    "            \n",
    "            # Decoder\n",
    "            conv3 = L.ConvolutionND(ndim=1, in_channels=None, out_channels=96, ksize=3, stride=1, pad=0)\n",
    "            conv4 = L.ConvolutionND(ndim=1, in_channels=None, out_channels=64, ksize=3, stride=1, pad=0)\n",
    "            \n",
    "            # output\n",
    "            self.fc1 = L.Linear(n_classes, )\n",
    "            \n",
    "    def __call__(self, x): # define network first\n",
    "        ## Encoder\n",
    "        # layer1\n",
    "        h = self.conv1(h)\n",
    "        h = F.dropout(h, ratio=0.3)\n",
    "        h = F.relu(h)\n",
    "        h = channel_normalization(h)\n",
    "        h = F.max_pooling_nd(h)\n",
    "        # layer2\n",
    "        h = self.conv2(h)\n",
    "        h = F.dropout(h, ratio=0.3)\n",
    "        h = F.relu(h)\n",
    "        h = channel_normalization(h)\n",
    "        h = F.max_pooling_nd(h)\n",
    "        \n",
    "        ## Decoder\n",
    "        # layer1\n",
    "        h = F.upsampling_2d(h, ksize=2)\n",
    "        h = self.conv3(h)\n",
    "        h = F.dropout(h, ratio=0.3)\n",
    "        h = F.relu(h)\n",
    "        h = channel_normalization(h)\n",
    "        # layer2\n",
    "        h = F.upsampling_2d(h, ksize=2)\n",
    "        h = self.conv4(h)\n",
    "        h = F.dropout(h, ratio=0.3)\n",
    "        h = F.relu(h)\n",
    "        h = channel_normalization(h)\n",
    "        \n",
    "        # output\n",
    "        h = self.fc1(h)\n",
    "        \n",
    "class DilTCN(chainer.chain):\n",
    "    \n",
    "    def __init__(self):\n",
    "        super(DilTCN, self).__init__(\n",
    "        conv1=CausalDilatedConvolution1D(),\n",
    "        conv2= stacks=StackList(stacks_num, layers_num, hidden_dim, hidden_dim, kernel_width),\n",
    "        conv2=L.Convolution2D(hidden_dim, out_hidden_dim, 1, initialW=INIT),\n",
    "        conv3=L.Convolution2D(out_hidden_dim, out_channels, 1, initialW=INIT),\n",
    "        )\n",
    "        self.out_channels = out_channels\n",
    "\n",
    "    def __call__(self, x, label):\n",
    "        x, skip = self.stacks(self.conv1(x))\n",
    "        x = self.conv2(F.relu(x+sum(skip)))\n",
    "        x = self.conv3(F.relu(x))\n",
    "\n",
    "        batch_size, _, _, width = x.shape\n",
    "        x = F.reshape(x, [batch_size, self.out_channels, 1, 1, width])\n",
    "        return x\n",
    "\n",
    "    "
   ]
  },
  {
   "cell_type": "code",
   "execution_count": null,
   "metadata": {},
   "outputs": [],
   "source": []
  }
 ],
 "metadata": {
  "kernelspec": {
   "display_name": "Python 3",
   "language": "python",
   "name": "python3"
  },
  "language_info": {
   "codemirror_mode": {
    "name": "ipython",
    "version": 3
   },
   "file_extension": ".py",
   "mimetype": "text/x-python",
   "name": "python",
   "nbconvert_exporter": "python",
   "pygments_lexer": "ipython3",
   "version": "3.6.2"
  }
 },
 "nbformat": 4,
 "nbformat_minor": 2
}
